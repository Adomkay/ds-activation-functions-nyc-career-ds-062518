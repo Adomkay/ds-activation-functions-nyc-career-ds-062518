{
 "cells": [
  {
   "cell_type": "markdown",
   "metadata": {},
   "source": [
    "# Activation Functions Lab\n",
    "\n",
    "## Objective\n",
    "\n",
    "In this lab, we'll learn about different common activation functions, and compare and constrast their effectiveness on an MLP for classification on the MNIST data set!\n",
    "\n",
    "### Getting Started: What Is An Activation Function?\n",
    "\n",
    "In your words, answer the following question:\n",
    "\n",
    "**_What purpose do acvtivation functions serve in Deep Learning?  What happens if our neural network has no activation functions?  What role do activation functions play in our output layer? Which activation functions are most commonly used in an output layer?_**\n",
    "\n",
    "Write your answer below this line:\n",
    "______________________________________________________________________________________________________________________\n",
    "\n",
    "Activation functions allow our Deep Learning models to capture nonlinearity.  If ANNs are a symbolic representation of biological neural networks, then activation functions mirror the ability of neurons being able to fire with different levels of intensity based on the rapidity of how often they fire.  A model with no activation functions would just be a linear model.  In the output layer, activation functions make the results of our neural network's forward propagation step interpretable.  If the task we are trying to solve is a binary classification task, then we would use a sigmoid neuron, so that we can interpret the results as a probability, much like the output of a logistic regression. If our task is multi-class classification, then we would use a softmax function, which would have the network output a vector of probabilities, which each element corresponding to the probability that the observed input data belongs to a different class.  \n",
    "\n",
    "\n",
    "For the first part of this lab, we'll only make use of the numpy library.  Run the cell below to import numpy."
   ]
  },
  {
   "cell_type": "code",
   "execution_count": 2,
   "metadata": {},
   "outputs": [],
   "source": [
    "import numpy as np"
   ]
  },
  {
   "cell_type": "markdown",
   "metadata": {},
   "source": [
    "## Writing Different Activation Functions\n",
    "\n",
    "We'll begin this lab by writing different activation functions manually, so that we can get a feel for how they work.  \n",
    "\n",
    "### Logistic Sigmoid Function\n",
    "\n",
    "\n",
    "We'll begin with the **_Sigmoid_** activation function, as described by the following equation:\n",
    "\n",
    "$$\\LARGE \\phi(z) = \\frac{1}{1 + e^{-z}}  $$\n",
    "\n",
    "In the cell below, complete the `sigmoid` function. This functio should take in a value and compute the results of the equation returned above.  "
   ]
  },
  {
   "cell_type": "code",
   "execution_count": 3,
   "metadata": {},
   "outputs": [],
   "source": [
    "def sigmoid(z):\n",
    "    return 1 / (1 + np.exp(-z))"
   ]
  },
  {
   "cell_type": "code",
   "execution_count": 5,
   "metadata": {},
   "outputs": [
    {
     "data": {
      "text/plain": [
       "0.61253961344091512"
      ]
     },
     "execution_count": 5,
     "metadata": {},
     "output_type": "execute_result"
    }
   ],
   "source": [
    "sigmoid(.458) # Expected Output 0.61253961344091512"
   ]
  },
  {
   "cell_type": "markdown",
   "metadata": {},
   "source": [
    "### Hyperbolic Tangent (tanh) Function \n",
    "\n",
    "The hyperbolic tangent function is as follows:\n",
    "\n",
    "\n",
    "\n",
    "$$\\LARGE  \\frac{e^x - e^{-x}}{e^x + e^{-x}}  $$\n",
    "\n",
    "Complete the function below by implementing the `tanh` function.  "
   ]
  },
  {
   "cell_type": "code",
   "execution_count": 31,
   "metadata": {},
   "outputs": [],
   "source": [
    "def tanh(z):\n",
    "    numerator = np.exp(z) - np.exp(-z)\n",
    "    denominator = np.exp(z) + np.exp(-z)\n",
    "    return numerator / denominator"
   ]
  },
  {
   "cell_type": "code",
   "execution_count": 30,
   "metadata": {},
   "outputs": [
    {
     "name": "stdout",
     "output_type": "stream",
     "text": [
      "0.964027580076\n",
      "0.0\n",
      "0.964027580076\n"
     ]
    }
   ],
   "source": [
    "print(tanh(2))\n",
    "print(np.tanh(2))\n",
    "print(tanh(0))"
   ]
  },
  {
   "cell_type": "markdown",
   "metadata": {},
   "source": [
    "### Rectified Linear Unit (ReLU) Function\n",
    "\n",
    "The final activation function we'll implement manually is the **_Rectified Linear Unit_** function, also known as **_ReLU_**.  \n",
    "\n",
    "The relu function is:\n",
    "\n",
    "$$\\LARGE  Max(0, z)  $$"
   ]
  },
  {
   "cell_type": "code",
   "execution_count": 32,
   "metadata": {},
   "outputs": [],
   "source": [
    "def relu(z):\n",
    "    return np.max((0., z))"
   ]
  },
  {
   "cell_type": "code",
   "execution_count": 33,
   "metadata": {},
   "outputs": [
    {
     "name": "stdout",
     "output_type": "stream",
     "text": [
      "0.0\n",
      "2.0\n"
     ]
    }
   ],
   "source": [
    "print(relu(-2)) # Expected Result: 0.0\n",
    "print(relu(2)) # Expected Result: 2.0"
   ]
  },
  {
   "cell_type": "markdown",
   "metadata": {},
   "source": [
    "### Softmax Function\n",
    "\n",
    "The **_Softmax Function_** is primarily used as the activation function on the output layer for neural networks for multi-class categorical prediction.  The softmax equation is as follows:\n",
    "\n",
    "<img src='softmax.png'>\n",
    "\n",
    "The mathematical notation for the softmax activation function is a bit dense, and this is a special case, since the softmax function is really only used on the output layer. Thus, the code for the softmax function ahs been provided.  \n",
    "\n",
    "Run the cell below to compute the softmax function on a sample vector.  "
   ]
  },
  {
   "cell_type": "code",
   "execution_count": 45,
   "metadata": {},
   "outputs": [
    {
     "data": {
      "text/plain": [
       "array([ 0.02364054,  0.06426166,  0.1746813 ,  0.474833  ,  0.02364054,\n",
       "        0.06426166,  0.1746813 ])"
      ]
     },
     "execution_count": 45,
     "metadata": {},
     "output_type": "execute_result"
    }
   ],
   "source": [
    "z = [1.0, 2.0, 3.0, 4.0, 1.0, 2.0, 3.0]\n",
    "softmax = np.exp(z)/np.sum(np.exp(z))\n",
    "softmax"
   ]
  },
  {
   "cell_type": "markdown",
   "metadata": {},
   "source": [
    "**_Expected Output:_**\n",
    "\n",
    "array([ 0.02364054,  0.06426166,  0.1746813 ,  0.474833  ,  0.02364054,\n",
    "        0.06426166,  0.1746813 ])\n",
    "\n",
    "\n",
    "## Comparing Training Results \n",
    "\n",
    "Now that we have experience with the various activation functions, we'll gain some practical experience with each of them by trying them all as different hyperparameters in a neural network to see how they affect the performance of the model. Before we can do that, we'll need to preprocess our image data. \n",
    "\n",
    "We'll build 3 different versions of the same network, with the only difference between them being the activation function used in our hidden layers.  Start off by importing everything we'll need from Keras in the cell below.\n",
    "\n",
    "**_HINT:_** Refer to previous labs that make use of Keras if you aren't sure what you need to import"
   ]
  },
  {
   "cell_type": "code",
   "execution_count": 15,
   "metadata": {},
   "outputs": [],
   "source": [
    "import keras\n",
    "from keras.models import Sequential\n",
    "from keras.layers import Dense\n",
    "from keras.datasets import mnist"
   ]
  },
  {
   "cell_type": "markdown",
   "metadata": {},
   "source": [
    "### Preprocessing Our Image Data\n",
    "\n",
    "We'll need to preprocess the MNIST image data so that it can be used in our model. \n",
    "\n",
    "In the cell below:\n",
    "\n",
    "* Load the training and testing data and their corresponding labels from MNIST.  \n",
    "* Reshape the data inside `X_train` and `X_test` into the appropriate shape (from a 28x28 matrix to a vector of length 784).  Also cast them to datatype `float32`.\n",
    "* Normalize the data inside of `X_train` and `X_test`\n",
    "* Convert the labels inside of `y_train` and `y_test` into one-hot vectors (Hint: see the [documentation](https://keras.io/utils/#to_categorical) if you can't remember how to do this)."
   ]
  },
  {
   "cell_type": "code",
   "execution_count": 16,
   "metadata": {},
   "outputs": [],
   "source": [
    "(X_train, y_train), (X_test, y_test) = mnist.load_data()"
   ]
  },
  {
   "cell_type": "code",
   "execution_count": 17,
   "metadata": {},
   "outputs": [],
   "source": [
    "X_train = X_train.reshape(60000, 784).astype('float32')\n",
    "X_test = X_test.reshape(10000, 784).astype('float32')\n",
    "X_train /= 255.\n",
    "X_test /= 255."
   ]
  },
  {
   "cell_type": "code",
   "execution_count": 18,
   "metadata": {},
   "outputs": [],
   "source": [
    "y_train = keras.utils.to_categorical(y_train, 10)\n",
    "y_test = keras.utils.to_categorical(y_test, 10)"
   ]
  },
  {
   "cell_type": "markdown",
   "metadata": {},
   "source": [
    "### Model Architecture\n",
    "\n",
    "Your task is to build a neural network to classify the MNIST dataset.  The model should have the following architecture:\n",
    "\n",
    "* Input layer of `(784,)`\n",
    "* Hidden Layer 1: 100 neurons\n",
    "* Hidden Layer 2: 50 neurons\n",
    "* Output Layer: 10 neurons, softmax activation function\n",
    "* Loss: `categorical_crossentropy`\n",
    "* Optimizer: `'SGD'`\n",
    "* metrics:  `['accuracy']`\n",
    "\n",
    "In the cell below, create a model that matches the specifications above and use a **_sigmoid activation function for all hidden layers_**."
   ]
  },
  {
   "cell_type": "code",
   "execution_count": 34,
   "metadata": {},
   "outputs": [],
   "source": [
    "sigmoid_model = Sequential()\n",
    "sigmoid_model.add(Dense(100, activation='sigmoid', input_shape=(784,)))\n",
    "sigmoid_model.add(Dense(50, activation='sigmoid'))\n",
    "sigmoid_model.add(Dense(10, activation='softmax'))"
   ]
  },
  {
   "cell_type": "markdown",
   "metadata": {},
   "source": [
    "Now, compile the model with the following hyperparameters:\n",
    "\n",
    "* `loss='categorical_crossentropy'`\n",
    "* `optimizer='SGD'`\n",
    "* `metrics=['accuracy']`"
   ]
  },
  {
   "cell_type": "code",
   "execution_count": 35,
   "metadata": {},
   "outputs": [],
   "source": [
    "sigmoid_model.compile(loss='categorical_crossentropy', optimizer='SGD', metrics=['accuracy'])"
   ]
  },
  {
   "cell_type": "markdown",
   "metadata": {},
   "source": [
    "Now, fit the model.  In addition to our training data, pass in the following parameters:\n",
    "\n",
    "* `epochs=10`\n",
    "* `batch_size=32`\n",
    "* `verbose=1`\n",
    "* `validation_data=(X_test, y_test)`"
   ]
  },
  {
   "cell_type": "code",
   "execution_count": 36,
   "metadata": {},
   "outputs": [
    {
     "name": "stdout",
     "output_type": "stream",
     "text": [
      "Train on 60000 samples, validate on 10000 samples\n",
      "Epoch 1/10\n",
      "60000/60000 [==============================] - 4s 62us/step - loss: 2.2098 - acc: 0.3427 - val_loss: 2.0507 - val_acc: 0.5434\n",
      "Epoch 2/10\n",
      "60000/60000 [==============================] - 3s 50us/step - loss: 1.7576 - acc: 0.6277 - val_loss: 1.4165 - val_acc: 0.7204\n",
      "Epoch 3/10\n",
      "60000/60000 [==============================] - 3s 52us/step - loss: 1.1771 - acc: 0.7420 - val_loss: 0.9568 - val_acc: 0.7825\n",
      "Epoch 4/10\n",
      "60000/60000 [==============================] - 3s 51us/step - loss: 0.8374 - acc: 0.8064 - val_loss: 0.7163 - val_acc: 0.8338\n",
      "Epoch 5/10\n",
      "60000/60000 [==============================] - 3s 54us/step - loss: 0.6578 - acc: 0.8412 - val_loss: 0.5847 - val_acc: 0.8578\n",
      "Epoch 6/10\n",
      "60000/60000 [==============================] - 3s 53us/step - loss: 0.5556 - acc: 0.8610 - val_loss: 0.5044 - val_acc: 0.8727\n",
      "Epoch 7/10\n",
      "60000/60000 [==============================] - 3s 52us/step - loss: 0.4920 - acc: 0.8735 - val_loss: 0.4531 - val_acc: 0.8812\n",
      "Epoch 8/10\n",
      "60000/60000 [==============================] - 3s 50us/step - loss: 0.4490 - acc: 0.8819 - val_loss: 0.4175 - val_acc: 0.8881\n",
      "Epoch 9/10\n",
      "60000/60000 [==============================] - 3s 50us/step - loss: 0.4179 - acc: 0.8874 - val_loss: 0.3912 - val_acc: 0.8932\n",
      "Epoch 10/10\n",
      "60000/60000 [==============================] - 3s 53us/step - loss: 0.3945 - acc: 0.8924 - val_loss: 0.3711 - val_acc: 0.8971\n"
     ]
    },
    {
     "data": {
      "text/plain": [
       "<keras.callbacks.History at 0x12d51f668>"
      ]
     },
     "execution_count": 36,
     "metadata": {},
     "output_type": "execute_result"
    }
   ],
   "source": [
    "sigmoid_model.fit(X_train, y_train, epochs=10, batch_size=32, verbose=1, validation_data=(X_test, y_test))"
   ]
  },
  {
   "cell_type": "markdown",
   "metadata": {},
   "source": [
    "## Fitting a Model with Tanh Activations\n",
    "\n",
    "Now, we'll build the exact same model as we did above, but with hidden layers that use `tanh` activation functions rather than `sigmoid`.\n",
    "\n",
    "In the cell below, create a second version of the model that uses hyperbolic tangent function for activations.  All other parameters, including number of hidden layers, size of hidden layers, and the output layer should remain the same. "
   ]
  },
  {
   "cell_type": "code",
   "execution_count": 38,
   "metadata": {},
   "outputs": [],
   "source": [
    "tanh_model = Sequential()\n",
    "tanh_model.add(Dense(100, activation='tanh', input_shape=(784,)))\n",
    "tanh_model.add(Dense(50, activation='tanh'))\n",
    "tanh_model.add(Dense(10, activation='softmax'))"
   ]
  },
  {
   "cell_type": "markdown",
   "metadata": {},
   "source": [
    "Now, compile this model.  Use the same hyperparameters as we did for the sigmoid model. "
   ]
  },
  {
   "cell_type": "code",
   "execution_count": 40,
   "metadata": {},
   "outputs": [],
   "source": [
    "tanh_model.compile(loss='categorical_crossentropy', optimizer='SGD', metrics=['accuracy'])"
   ]
  },
  {
   "cell_type": "markdown",
   "metadata": {},
   "source": [
    "Now, fit the model.  Use the same hyperparameters as we did for the sigmoid model. "
   ]
  },
  {
   "cell_type": "code",
   "execution_count": 41,
   "metadata": {},
   "outputs": [
    {
     "name": "stdout",
     "output_type": "stream",
     "text": [
      "Train on 60000 samples, validate on 10000 samples\n",
      "Epoch 1/10\n",
      "60000/60000 [==============================] - 3s 50us/step - loss: 0.6078 - acc: 0.8449 - val_loss: 0.3572 - val_acc: 0.9015\n",
      "Epoch 2/10\n",
      "60000/60000 [==============================] - 3s 51us/step - loss: 0.3272 - acc: 0.9076 - val_loss: 0.2901 - val_acc: 0.9164\n",
      "Epoch 3/10\n",
      "60000/60000 [==============================] - 3s 51us/step - loss: 0.2764 - acc: 0.9211 - val_loss: 0.2521 - val_acc: 0.9253\n",
      "Epoch 4/10\n",
      "60000/60000 [==============================] - 3s 52us/step - loss: 0.2449 - acc: 0.9301 - val_loss: 0.2278 - val_acc: 0.9330\n",
      "Epoch 5/10\n",
      "60000/60000 [==============================] - 4s 58us/step - loss: 0.2212 - acc: 0.9368 - val_loss: 0.2076 - val_acc: 0.9392\n",
      "Epoch 6/10\n",
      "60000/60000 [==============================] - 3s 54us/step - loss: 0.2019 - acc: 0.9426 - val_loss: 0.1917 - val_acc: 0.9437\n",
      "Epoch 7/10\n",
      "60000/60000 [==============================] - 3s 52us/step - loss: 0.1856 - acc: 0.9482 - val_loss: 0.1791 - val_acc: 0.9473\n",
      "Epoch 8/10\n",
      "60000/60000 [==============================] - 3s 56us/step - loss: 0.1721 - acc: 0.9514 - val_loss: 0.1666 - val_acc: 0.9509\n",
      "Epoch 9/10\n",
      "60000/60000 [==============================] - 3s 56us/step - loss: 0.1600 - acc: 0.9550 - val_loss: 0.1563 - val_acc: 0.9549\n",
      "Epoch 10/10\n",
      "60000/60000 [==============================] - 3s 54us/step - loss: 0.1499 - acc: 0.9575 - val_loss: 0.1485 - val_acc: 0.9582\n"
     ]
    },
    {
     "data": {
      "text/plain": [
       "<keras.callbacks.History at 0x12d7517b8>"
      ]
     },
     "execution_count": 41,
     "metadata": {},
     "output_type": "execute_result"
    }
   ],
   "source": [
    "tanh_model.fit(X_train, y_train, epochs=10, batch_size=32, verbose=1, validation_data=(X_test, y_test))"
   ]
  },
  {
   "cell_type": "markdown",
   "metadata": {},
   "source": [
    "## Fitting a Model with ReLU Activations"
   ]
  },
  {
   "cell_type": "markdown",
   "metadata": {},
   "source": [
    "Finally, construct a third version of the same model, but this time with `relu` activation functions for the hidden layer.  "
   ]
  },
  {
   "cell_type": "code",
   "execution_count": 42,
   "metadata": {},
   "outputs": [],
   "source": [
    "relu_model = Sequential()\n",
    "relu_model.add(Dense(100, activation='relu', input_shape=(784,)))\n",
    "relu_model.add(Dense(50, activation='relu'))\n",
    "relu_model.add(Dense(10, activation='softmax'))"
   ]
  },
  {
   "cell_type": "markdown",
   "metadata": {},
   "source": [
    "Now, compile the model with the same hyperparameters as the last two models. "
   ]
  },
  {
   "cell_type": "code",
   "execution_count": 43,
   "metadata": {},
   "outputs": [],
   "source": [
    "relu_model.compile(loss='categorical_crossentropy', optimizer='SGD', metrics=['accuracy'])"
   ]
  },
  {
   "cell_type": "markdown",
   "metadata": {},
   "source": [
    "Now, fit the model with the same hyperparameters as the last two models. "
   ]
  },
  {
   "cell_type": "code",
   "execution_count": 44,
   "metadata": {},
   "outputs": [
    {
     "name": "stdout",
     "output_type": "stream",
     "text": [
      "Train on 60000 samples, validate on 10000 samples\n",
      "Epoch 1/10\n",
      "60000/60000 [==============================] - 3s 51us/step - loss: 0.6758 - acc: 0.8139 - val_loss: 0.3310 - val_acc: 0.9071\n",
      "Epoch 2/10\n",
      "60000/60000 [==============================] - 3s 50us/step - loss: 0.3063 - acc: 0.9136 - val_loss: 0.2644 - val_acc: 0.9240\n",
      "Epoch 3/10\n",
      "60000/60000 [==============================] - 3s 51us/step - loss: 0.2505 - acc: 0.9285 - val_loss: 0.2226 - val_acc: 0.9357\n",
      "Epoch 4/10\n",
      "60000/60000 [==============================] - 3s 50us/step - loss: 0.2138 - acc: 0.9391 - val_loss: 0.1945 - val_acc: 0.9443\n",
      "Epoch 5/10\n",
      "60000/60000 [==============================] - 3s 51us/step - loss: 0.1865 - acc: 0.9464 - val_loss: 0.1733 - val_acc: 0.9488\n",
      "Epoch 6/10\n",
      "60000/60000 [==============================] - 3s 56us/step - loss: 0.1658 - acc: 0.9523 - val_loss: 0.1600 - val_acc: 0.9536\n",
      "Epoch 7/10\n",
      "60000/60000 [==============================] - 3s 51us/step - loss: 0.1497 - acc: 0.9572 - val_loss: 0.1448 - val_acc: 0.9581\n",
      "Epoch 8/10\n",
      "60000/60000 [==============================] - 3s 53us/step - loss: 0.1361 - acc: 0.9611 - val_loss: 0.1371 - val_acc: 0.9606\n",
      "Epoch 9/10\n",
      "60000/60000 [==============================] - 3s 52us/step - loss: 0.1248 - acc: 0.9641 - val_loss: 0.1306 - val_acc: 0.9614\n",
      "Epoch 10/10\n",
      "60000/60000 [==============================] - 3s 57us/step - loss: 0.1154 - acc: 0.9665 - val_loss: 0.1210 - val_acc: 0.9657\n"
     ]
    },
    {
     "data": {
      "text/plain": [
       "<keras.callbacks.History at 0x12dc6d6d8>"
      ]
     },
     "execution_count": 44,
     "metadata": {},
     "output_type": "execute_result"
    }
   ],
   "source": [
    "relu_model.fit(X_train, y_train, epochs=10, batch_size=32, verbose=1, validation_data=(X_test, y_test))"
   ]
  },
  {
   "cell_type": "markdown",
   "metadata": {},
   "source": [
    "## Conclusion\n",
    "\n",
    "Which activation function was most effective?\n",
    "\n"
   ]
  }
 ],
 "metadata": {
  "kernelspec": {
   "display_name": "Python 3",
   "language": "python",
   "name": "python3"
  },
  "language_info": {
   "codemirror_mode": {
    "name": "ipython",
    "version": 3
   },
   "file_extension": ".py",
   "mimetype": "text/x-python",
   "name": "python",
   "nbconvert_exporter": "python",
   "pygments_lexer": "ipython3",
   "version": "3.6.4"
  }
 },
 "nbformat": 4,
 "nbformat_minor": 2
}
